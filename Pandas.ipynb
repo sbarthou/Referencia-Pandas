{
 "cells": [
  {
   "cell_type": "code",
   "execution_count": 1,
   "id": "5896e832",
   "metadata": {},
   "outputs": [],
   "source": [
    "import pandas as pd"
   ]
  },
  {
   "cell_type": "markdown",
   "id": "85262e37",
   "metadata": {},
   "source": [
    "# Pandas"
   ]
  },
  {
   "cell_type": "markdown",
   "id": "39026e1c",
   "metadata": {},
   "source": [
    "#### Definiciones\n",
    "\n",
    "*dataframe* (df) : Tabla de datos. <br>\n",
    "*series* : Lista estilo numpy array."
   ]
  },
  {
   "cell_type": "markdown",
   "id": "e073f25d",
   "metadata": {},
   "source": [
    "#### Leer archivos"
   ]
  },
  {
   "cell_type": "markdown",
   "id": "fbacbd2f",
   "metadata": {},
   "source": [
    "```python\n",
    "\n",
    "df = pd.read_csv(\"file.csv\") : Carga y lee el archivo .csv en la variable df.\n",
    "df = pd.read_excel(\"file.xlsx\") : Carga y lee el archivo .xlsx en la variable df.\n",
    "\n",
    "```"
   ]
  },
  {
   "cell_type": "markdown",
   "id": "577d8173",
   "metadata": {},
   "source": [
    "#### Visualización"
   ]
  },
  {
   "cell_type": "markdown",
   "id": "1df744ca",
   "metadata": {},
   "source": [
    "Tome en cuenta que *df* es la variable que contiene el dataframe.\n",
    "\n",
    "```python\n",
    "\n",
    "df.head(n) : Retorna los n primeros datos.\n",
    "df.tail(n) : Retorna los n ultimos datos.\n",
    "df.index : Retorna el indice de los datos. (el número de fila)\n",
    "df.columns : Retorna las columnas.\n",
    "df.shape : Retorna el número de filas(i) y el número de columnas(j) de forma (i,j). (igual que la función shape de numpy)\n",
    "df.iloc[i] : Retorna los datos de la fila i.\n",
    "df.iloc[i,j] : Retorna el dato en la posición j de la fila i.\n",
    "df[\"columna\"] : Retorna los datos de la columna llamada columna.\n",
    "df[\"columna\"][i] : Retorna el dato en la posición i (fila n°i) de la columna llamada columna.\n",
    "\n",
    "```"
   ]
  },
  {
   "cell_type": "markdown",
   "id": "c53fbad1",
   "metadata": {},
   "source": [
    "#### Filtrado"
   ]
  },
  {
   "cell_type": "markdown",
   "id": "3908ee8e",
   "metadata": {},
   "source": [
    "Tome en cuenta que *df* es la variable que contiene el dataframe.\n",
    "\n",
    "```python\n",
    "\n",
    "data = df[[\"columnaA\", \"columnaB\"]] : Crea una variable llamada data que contiene solo los datos de las columnas columnaA y columnaB.\n",
    "df[\"columna\"].unique() : Retorna los datos de la columna llamada columna pero sin repetirlos.\n",
    "len(df[\"columna\"].unique()) : Retorna la cantidad de datos de la columna llamada columna pero sin repetir ninguno.\n",
    "df[df[\"columna\"] == \"valor\"] : Retorna un dataframe \"filtrado\" con los datos que en la columna llamada columna tengan valor valor.\n",
    "df[(df[\"columnaA\"] == \"valorA\") | (df[\"columnaB\"] == \"valorB\")] : Se pueden ocupar multiples condiciones poniendoles () y separandolas con | (or) o & (and).\n",
    "df[df[\"columna\"].fillna(\"None\")] : La función .fillna permite asignar un valor (None) en una columna (columna) que no tenga un dato alguna fila.\n",
    "df[df[\"columna\"].fillna(\"None\") != \"None\"] : Retorna un dataframe sin aquellas filas que no tengan un valor en la columna llamada columna.\n",
    "\n",
    "```"
   ]
  },
  {
   "cell_type": "markdown",
   "id": "fe2fd193",
   "metadata": {},
   "source": [
    "#### Operaciones"
   ]
  },
  {
   "cell_type": "markdown",
   "id": "5d277227",
   "metadata": {},
   "source": [
    "Tome en cuenta que *df* es la variable que contiene el dataframe.\n",
    "\n",
    "```python\n",
    "\n",
    "df.size : Retorna el número de elementos.\n",
    "df.add() : Add DataFrames.\n",
    "df.sub() : Subtract DataFrames.\n",
    "df.mul() : Multiply DataFrames.\n",
    "df.div() : Divide DataFrames (float division).\n",
    "df.floordiv() : Divide DataFrames (integer division).\n",
    "df.mod() : Calculate modulo (remainder after division). (resto de la division)\n",
    "df.pow() : Calculate exponential power.\n",
    "df.sum() : Return the sum over the requested axis.\n",
    "df.min() : Return the minimum over the requested axis.\n",
    "df.max() : Return the maximum over the requested axis.\n",
    "df.idxmin() : Return the index of the minimum over the requested axis.\n",
    "df.idxmax() : Return the index of the maximum over the requested axis.\n",
    "df.mean() : Return the mean of the values over the requested axis.\n",
    "df.std() : Return the standard deviation over requested axis.\n",
    "\n",
    "```"
   ]
  },
  {
   "cell_type": "markdown",
   "id": "882021c3",
   "metadata": {},
   "source": [
    "#### Otros"
   ]
  },
  {
   "cell_type": "markdown",
   "id": "ff84527c",
   "metadata": {},
   "source": [
    "Tome en cuenta que *df* es la variable que contiene el dataframe.\n",
    "\n",
    "```python\n",
    "\n",
    "df.to_numpy() : Convierte un dataframe a un array de numpy.\n",
    "df.values : Convierte un dataframe a un array de numpy.\n",
    "\n",
    "```"
   ]
  }
 ],
 "metadata": {
  "kernelspec": {
   "display_name": "Python 3 (ipykernel)",
   "language": "python",
   "name": "python3"
  },
  "language_info": {
   "codemirror_mode": {
    "name": "ipython",
    "version": 3
   },
   "file_extension": ".py",
   "mimetype": "text/x-python",
   "name": "python",
   "nbconvert_exporter": "python",
   "pygments_lexer": "ipython3",
   "version": "3.10.6"
  },
  "vscode": {
   "interpreter": {
    "hash": "c6e4e9f98eb68ad3b7c296f83d20e6de614cb42e90992a65aa266555a3137d0d"
   }
  }
 },
 "nbformat": 4,
 "nbformat_minor": 5
}
